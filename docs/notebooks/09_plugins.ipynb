{
 "cells": [
  {
   "cell_type": "markdown",
   "id": "f0a03681-86cb-4835-b41d-fd8da98be22a",
   "metadata": {},
   "source": [
    "# Plugins\n",
    "\n",
    "## Lumerical FDTD Sparameters\n",
    "\n",
    "gdsfactory provides you with a Lumerical FDTD interface to calculate Sparameters automatically (without you having to click around the Lumerical GUI)\n",
    "\n",
    "The function `gdsfactory.simulation.lumerical.write_sparameters_lumerical` brings up a GUI, runs simulation and then writes the Sparameters both in .CSV and .DAT (Lumerical interconnect / simphony) file formats, as well as the simulation settings in YAML format.\n",
    "\n",
    "In the CSV format each Sparameter will have 2 columns, `s12m` where `m` stands for magnitude and `s12a` where `a` stands for angle in radians. (s11a, s11m, ...)\n",
    "\n",
    "For the simulation to work well, your components need to have ports, that will be extended automatically to go over the PML.\n",
    "\n",
    "![FDTD](https://i.imgur.com/dHAzZRw.png)\n",
    "\n",
    "The script calls internally the lumerical python API `lumapi` so you will need to make sure that you can run this from python.\n",
    "\n",
    "```python\n",
    "import lumapi\n",
    "\n",
    "session = luampi.FDTD()\n",
    "```\n",
    "\n",
    "In linux that may require you to export the PYTHONPATH variable in your shell environment.\n",
    "\n",
    "You can add one line into your `.bashrc` in your Linux machine. This line will depend also on your Lumerical version. For example for Lumerical 2019b\n",
    "\n",
    "```bash\n",
    "[ -d \"/opt/lumerical/2019b\" ] && export PATH=$PATH:/opt/lumerical/2019b/bin && export PYTHONPATH=/opt/lumerical/2019b/api/python\n",
    "```\n",
    "\n",
    "And for 2021v212\n",
    "\n",
    "```bash\n",
    "[ -d \"/opt/lumerical/v212\" ] && export PATH=$PATH:/opt/lumerical/v212/api/python/bin && export PYTHONPATH=/opt/lumerical/v212/api/python\n",
    "```\n"
   ]
  },
  {
   "cell_type": "markdown",
   "id": "a5c9a027-7fd5-4918-94aa-8b9e3d8f8ed0",
   "metadata": {},
   "source": [
    "I reccommend that you adapt this functions with your :\n",
    "\n",
    "- simulation settings (wavelength range, mesh)\n",
    "- LayerStack: GDS layer to thickness/material/zmin for each layer\n",
    "- dirpath: directory path to write and read the Sparameters\n"
   ]
  },
  {
   "cell_type": "code",
   "execution_count": null,
   "id": "963c46db-60ba-4fd6-b9db-b76ba34cbe42",
   "metadata": {
    "lines_to_next_cell": 2
   },
   "outputs": [],
   "source": [
    "import gdsfactory as gf\n",
    "import gdsfactory.simulation as sim\n",
    "import gdsfactory.simulation.lumerical as fdtd\n",
    "import gdsfactory.samples.pdk.fab_c as pdk\n",
    "\n",
    "write_sparameters_lumerical = gf.partial(\n",
    "    fdtd.write_sparameters_lumerical,\n",
    "    layer_stack=pdk.LAYER_STACK,\n",
    "    dirpath=pdk.SPARAMETERS_PATH,\n",
    ")\n",
    "\n",
    "get_sparameters_data_lumerical = gf.partial(\n",
    "    sim.get_sparameters_data_lumerical,\n",
    "    layer_stack=pdk.LAYER_STACK,\n",
    "    dirpath=pdk.SPARAMETERS_PATH,\n",
    ")"
   ]
  },
  {
   "cell_type": "markdown",
   "id": "e3f701fa-5780-40cc-bf26-46486f783028",
   "metadata": {},
   "source": [
    "## Meep FDTD Simulator\n",
    "\n",
    "See `gdsfactory.simulation.gmeep`\n",
    "\n",
    "## MPB mode solver \n",
    "\n",
    "See `gdsfactory.simulation.modes`\n",
    "\n",
    "## Tidy3d\n",
    "\n",
    "Tidy3D is a [commercial](https://simulation.cloud/), web-based GPU accelerated FDTD solver\n",
    "\n",
    "See `gdsfactory.simulation.tidy3d`\n",
    "\n",
    "## Sparameters Circuit solvers\n",
    "\n",
    "You can chain the Sparameters to solve the Sparameters response of larger circuits using a circuit solver such as:\n",
    "\n",
    "- Lumerical interconnect\n",
    "- [simphony (open source)](https://simphonyphotonics.readthedocs.io/en/latest/)\n",
    "- [sax (open source)](https://sax.readthedocs.io/en/latest/index.html)"
   ]
  },
  {
   "cell_type": "code",
   "execution_count": null,
   "id": "00cc0d92-cc55-4d28-83cf-f865e9a0f004",
   "metadata": {},
   "outputs": [],
   "source": []
  }
 ],
 "metadata": {
  "kernelspec": {
   "display_name": "Python 3 (ipykernel)",
   "language": "python",
   "name": "python3"
  },
  "language_info": {
   "codemirror_mode": {
    "name": "ipython",
    "version": 3
   },
   "file_extension": ".py",
   "mimetype": "text/x-python",
   "name": "python",
   "nbconvert_exporter": "python",
   "pygments_lexer": "ipython3",
   "version": "3.9.5"
  }
 },
 "nbformat": 4,
 "nbformat_minor": 5
}
