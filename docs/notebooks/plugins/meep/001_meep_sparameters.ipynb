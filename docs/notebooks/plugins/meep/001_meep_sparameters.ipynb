{
 "cells": [
  {
   "cell_type": "markdown",
   "metadata": {},
   "source": [
    "# FDTD Sparameters in Meep\n",
    "\n",
    "Here are some examples on how to extract Sparameters in Meep.\n",
    "\n",
    "For extracting Sparameters, `gmeep` automatically moves the source between ports.\n",
    "\n",
    "- add monitors\n",
    "- run simulation\n",
    "- pull coefficients, and create proper ratios to get Sparameters. Monitors are recording Fourier Transform fields. Sparameter is a relationship of those parameters. Frequency domain approach at many different frequencies. Get eigenmode coefficients.\n",
    "    - forward coefficient: how much waveguide forward mode\n",
    "    - backward coefficient: how much waveguide forward mode\n",
    "   \n",
    "\n",
    "Notice that most examples run with `resolution=20` so they run fast.\n",
    "\n",
    "The resolution is in pixels/um so i reccommend that you run with at least `resolution=100` for 1/100 um/pixel (10 nm/ pixel)\n",
    "\n",
    "   \n",
    "## Single core\n",
    "\n",
    "To run the examples you can use low `resolution=20` to speed up the simulations."
   ]
  },
  {
   "cell_type": "code",
   "execution_count": null,
   "metadata": {},
   "outputs": [],
   "source": [
    "import matplotlib.pyplot as plt\n",
    "import numpy as np\n",
    "import gdsfactory as gf\n",
    "import gdsfactory.simulation.gmeep as gm\n",
    "\n",
    "gf.config.set_plot_options(show_subports=False, show_ports=False)"
   ]
  },
  {
   "cell_type": "code",
   "execution_count": null,
   "metadata": {},
   "outputs": [],
   "source": [
    "c = gf.components.straight(length=2)\n",
    "p = 2\n",
    "c = gf.add_padding_container(c, default=0, top=p, bottom=p)\n",
    "c"
   ]
  },
  {
   "cell_type": "markdown",
   "metadata": {},
   "source": [
    "`run=False` only plots the simulations for you to review that is set up **correctly**"
   ]
  },
  {
   "cell_type": "code",
   "execution_count": null,
   "metadata": {},
   "outputs": [],
   "source": [
    "df = gm.write_sparameters_meep(c, run=False)"
   ]
  },
  {
   "cell_type": "code",
   "execution_count": null,
   "metadata": {},
   "outputs": [],
   "source": [
    "df = gm.write_sparameters_meep(c, resolution=20)"
   ]
  },
  {
   "cell_type": "code",
   "execution_count": null,
   "metadata": {},
   "outputs": [],
   "source": [
    "gf.simulation.plot.plot_sparameters(df)"
   ]
  },
  {
   "cell_type": "code",
   "execution_count": null,
   "metadata": {},
   "outputs": [],
   "source": [
    "gf.simulation.plot.plot_sparameters(df, keys=('s21m',))"
   ]
  },
  {
   "cell_type": "markdown",
   "metadata": {},
   "source": [
    "For a straight waveguide S21 (Transmission) is around 0dB (100% transmission)"
   ]
  },
  {
   "cell_type": "markdown",
   "metadata": {},
   "source": [
    "## Port symmetries\n",
    "\n",
    "You can save some simulations in reciprocal devices. "
   ]
  },
  {
   "cell_type": "code",
   "execution_count": null,
   "metadata": {},
   "outputs": [],
   "source": [
    "c = gf.components.bend_euler(radius=3)\n",
    "p = 2\n",
    "c = gf.add_padding_container(c, default=0, bottom=p, right=p)\n",
    "c"
   ]
  },
  {
   "cell_type": "code",
   "execution_count": null,
   "metadata": {},
   "outputs": [],
   "source": [
    "df = gm.write_sparameters_meep(c, run=True, port_symmetries=gm.port_symmetries.port_symmetries_1x1, resolution=20)\n",
    "gf.simulation.plot.plot_sparameters(df, keys=('s21m',))"
   ]
  },
  {
   "cell_type": "code",
   "execution_count": null,
   "metadata": {},
   "outputs": [],
   "source": [
    "gf.simulation.plot.plot_sparameters(df, keys=('s11m',))"
   ]
  },
  {
   "cell_type": "code",
   "execution_count": null,
   "metadata": {},
   "outputs": [],
   "source": [
    "c = gf.components.crossing()\n",
    "c"
   ]
  },
  {
   "cell_type": "code",
   "execution_count": null,
   "metadata": {},
   "outputs": [],
   "source": [
    "port_symmetries = {\n",
    "    \"o1\": {\n",
    "        \"s11\": [\"s22\", \"s33\", \"s44\"],\n",
    "        \"s21\": [\"s12\", \"s34\", \"s43\"],\n",
    "        \"s31\": [\"s13\", \"s24\", \"s42\"],\n",
    "        \"s41\": [\"s14\", \"s23\", \"s32\"],\n",
    "    }\n",
    "}\n",
    "df = gm.write_sparameters_meep(c, resolution=20, port_symmetries=gm.port_symmetries.port_symmetries_crossing)"
   ]
  },
  {
   "cell_type": "code",
   "execution_count": null,
   "metadata": {},
   "outputs": [],
   "source": [
    "gm.plot.plot_sparameters(df)"
   ]
  },
  {
   "cell_type": "code",
   "execution_count": null,
   "metadata": {},
   "outputs": [],
   "source": [
    "gm.plot.plot_sparameters(df, keys=('s31m',))\n",
    "\n",
    "# As you can see this crossing looks beautiful but it's not optimized"
   ]
  },
  {
   "cell_type": "markdown",
   "metadata": {},
   "source": [
    "## Multicore\n",
    "\n",
    "You can divide each simulation into multiple cores thanks to MPI."
   ]
  },
  {
   "cell_type": "code",
   "execution_count": null,
   "metadata": {},
   "outputs": [],
   "source": [
    "import matplotlib.pyplot as plt\n",
    "import numpy as np\n",
    "import pandas as pd\n",
    "import time\n",
    "\n",
    "import gdsfactory as gf\n",
    "import gdsfactory.simulation as sim\n",
    "import gdsfactory.simulation.gmeep as gm"
   ]
  },
  {
   "cell_type": "code",
   "execution_count": null,
   "metadata": {},
   "outputs": [],
   "source": [
    "component_name = 'mmi1x2'\n",
    "c = gf.components.factory[component_name]()\n",
    "p = 3\n",
    "c = gf.add_padding_container(c, default=0, top=p, bottom=p)\n",
    "c"
   ]
  },
  {
   "cell_type": "code",
   "execution_count": null,
   "metadata": {},
   "outputs": [],
   "source": [
    "filepath = gm.write_sparameters_meep_mpi(\n",
    "    component=c,\n",
    "    cores=3,\n",
    "    resolution=20\n",
    ")"
   ]
  },
  {
   "cell_type": "code",
   "execution_count": null,
   "metadata": {},
   "outputs": [],
   "source": [
    "filepath"
   ]
  },
  {
   "cell_type": "code",
   "execution_count": null,
   "metadata": {},
   "outputs": [],
   "source": [
    "while not filepath.exists():\n",
    "    time.sleep(1)\n",
    "    print('waiting for sim result in {filepath!r}')"
   ]
  },
  {
   "cell_type": "code",
   "execution_count": null,
   "metadata": {},
   "outputs": [],
   "source": [
    "df = pd.read_csv(filepath)"
   ]
  },
  {
   "cell_type": "code",
   "execution_count": null,
   "metadata": {},
   "outputs": [],
   "source": [
    "gf.simulation.plot.plot_sparameters(df)"
   ]
  },
  {
   "cell_type": "code",
   "execution_count": null,
   "metadata": {},
   "outputs": [],
   "source": [
    "gf.simulation.plot.plot_sparameters(df, keys=['s12m', 's13m'])"
   ]
  },
  {
   "cell_type": "code",
   "execution_count": null,
   "metadata": {},
   "outputs": [],
   "source": [
    "gf.simulation.plot.plot_sparameters(df, keys=['s12m'])"
   ]
  },
  {
   "cell_type": "markdown",
   "metadata": {},
   "source": [
    "## Multicore pool\n",
    "\n",
    "You can also run a pool of multicore simulations"
   ]
  },
  {
   "cell_type": "code",
   "execution_count": null,
   "metadata": {},
   "outputs": [],
   "source": [
    "import matplotlib.pyplot as plt\n",
    "import numpy as np\n",
    "import pandas as pd\n",
    "import gdsfactory as gf\n",
    "\n",
    "import gdsfactory.simulation as sim\n",
    "import gdsfactory.simulation.gmeep as gm"
   ]
  },
  {
   "cell_type": "code",
   "execution_count": null,
   "metadata": {},
   "outputs": [],
   "source": [
    "c = gf.components.straight(length=3)\n",
    "p = 2\n",
    "c = gf.add_padding_container(c, default=0, top=p, bottom=p)\n",
    "c"
   ]
  },
  {
   "cell_type": "code",
   "execution_count": null,
   "metadata": {},
   "outputs": [],
   "source": [
    "c1_dict = {\n",
    "        \"component\": c,\n",
    "    }\n",
    "jobs = [\n",
    "    c1_dict,\n",
    "]\n",
    "\n",
    "filepaths = gm.write_sparameters_meep_mpi_pool(\n",
    "    jobs=jobs,\n",
    "    cores_per_run=4,\n",
    "    total_cores=8,\n",
    "    lazy_parallelism=True,\n",
    "    port_symmetries=gm.port_symmetries.port_symmetries_1x1\n",
    ")"
   ]
  },
  {
   "cell_type": "code",
   "execution_count": null,
   "metadata": {},
   "outputs": [],
   "source": [
    "df = pd.read_csv(filepaths[0])\n",
    "gf.simulation.plot.plot_sparameters(df)"
   ]
  },
  {
   "cell_type": "code",
   "execution_count": null,
   "metadata": {},
   "outputs": [],
   "source": [
    "component_name = 'coupler_ring'\n",
    "c = gf.components.factory[component_name]()\n",
    "p = 3\n",
    "c = gf.add_padding_container(c, default=0, left=p, right=p, bottom=p)\n",
    "c"
   ]
  },
  {
   "cell_type": "code",
   "execution_count": null,
   "metadata": {},
   "outputs": [],
   "source": [
    "c1_dict = {\n",
    "        \"component\": c,\n",
    "    }\n",
    "jobs = [c1_dict]\n",
    "\n",
    "filepaths = gm.write_sparameters_meep_mpi_pool(\n",
    "    jobs=jobs,\n",
    "    cores_per_run=4,\n",
    "    total_cores=8,\n",
    "    delete_temp_files=False,\n",
    "    lazy_parallelism=True,\n",
    ")"
   ]
  },
  {
   "cell_type": "code",
   "execution_count": null,
   "metadata": {},
   "outputs": [],
   "source": [
    "df = pd.read_csv(filepaths[0])"
   ]
  },
  {
   "cell_type": "code",
   "execution_count": null,
   "metadata": {},
   "outputs": [],
   "source": [
    "gm.plot.plot_sparameters(df)"
   ]
  },
  {
   "cell_type": "code",
   "execution_count": null,
   "metadata": {},
   "outputs": [],
   "source": [
    "gm.plot.plot_sparameters(df, keys=['s31m'])"
   ]
  },
  {
   "cell_type": "code",
   "execution_count": null,
   "metadata": {},
   "outputs": [],
   "source": [
    "gm.plot.plot_sparameters(df, keys=['s41m'])"
   ]
  }
 ],
 "metadata": {
  "kernelspec": {
   "display_name": "Python 3 (ipykernel)",
   "language": "python",
   "name": "python3"
  },
  "language_info": {
   "codemirror_mode": {
    "name": "ipython",
    "version": 3
   },
   "file_extension": ".py",
   "mimetype": "text/x-python",
   "name": "python",
   "nbconvert_exporter": "python",
   "pygments_lexer": "ipython3",
   "version": "3.9.5"
  }
 },
 "nbformat": 4,
 "nbformat_minor": 4,
 "nbsphinx": {
  "execute": "never"
 }
}
