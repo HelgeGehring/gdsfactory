{
 "cells": [
  {
   "cell_type": "code",
   "execution_count": null,
   "metadata": {},
   "outputs": [],
   "source": [
    "import numpy as np\n",
    "import matplotlib.pyplot as plt\n",
    "import meep as mp\n",
    "import gdsfactory.simulation.modes as gm"
   ]
  },
  {
   "cell_type": "markdown",
   "metadata": {},
   "source": [
    "# MPB modes\n",
    "\n",
    "MPB has periodic boundary conditions.\n",
    "\n",
    "## Find modes\n",
    "\n",
    "### Strip waveguides\n",
    "\n",
    "Strip waveguides are fully etch and don't have a slab"
   ]
  },
  {
   "cell_type": "code",
   "execution_count": null,
   "metadata": {},
   "outputs": [],
   "source": [
    "mode_solver = gm.get_mode_solver_rib(wg_width=0.4, ncore=3.47, nclad=1.44, wg_thickness=.22, resolution=20, sy=3, sz=3, nmodes=4)\n",
    "modes = gm.find_modes(mode_solver=mode_solver, parity=mp.NO_PARITY)\n",
    "m1 = modes[1]\n",
    "m2 = modes[2]\n",
    "m3 = modes[3]"
   ]
  },
  {
   "cell_type": "code",
   "execution_count": null,
   "metadata": {},
   "outputs": [],
   "source": [
    "m1.plot_eps()"
   ]
  },
  {
   "cell_type": "code",
   "execution_count": null,
   "metadata": {},
   "outputs": [],
   "source": [
    "m1.plot_ex()"
   ]
  },
  {
   "cell_type": "code",
   "execution_count": null,
   "metadata": {},
   "outputs": [],
   "source": [
    "m1.plot_e_all()"
   ]
  },
  {
   "cell_type": "code",
   "execution_count": null,
   "metadata": {},
   "outputs": [],
   "source": [
    "m1.plot_e()"
   ]
  },
  {
   "cell_type": "code",
   "execution_count": null,
   "metadata": {},
   "outputs": [],
   "source": [
    "m2.plot_e()"
   ]
  },
  {
   "cell_type": "code",
   "execution_count": null,
   "metadata": {},
   "outputs": [],
   "source": [
    "m3.plot_e() # not guided"
   ]
  },
  {
   "cell_type": "code",
   "execution_count": null,
   "metadata": {},
   "outputs": [],
   "source": [
    "m1.neff"
   ]
  },
  {
   "cell_type": "code",
   "execution_count": null,
   "metadata": {},
   "outputs": [],
   "source": [
    "m2.neff"
   ]
  },
  {
   "cell_type": "code",
   "execution_count": null,
   "metadata": {},
   "outputs": [],
   "source": [
    "# the third mode does not propagate and its neff is below the cladding index\n",
    "m3.neff"
   ]
  },
  {
   "cell_type": "markdown",
   "metadata": {},
   "source": [
    "### Rib waveguides\n",
    "\n",
    "Ribe waveguides have a slab (not fully etched)"
   ]
  },
  {
   "cell_type": "code",
   "execution_count": null,
   "metadata": {},
   "outputs": [],
   "source": [
    "import gdsfactory.simulation.modes as gm\n",
    "import meep as mp\n",
    "\n",
    "mode_solver = gm.get_mode_solver_rib(slab_thickness=90e-3)\n",
    "modes = gm.find_modes(mode_solver=mode_solver, mode_number=1, nmodes=2, resolution=10)\n",
    "m1 = modes[1]\n",
    "m2 = modes[2]"
   ]
  },
  {
   "cell_type": "code",
   "execution_count": null,
   "metadata": {},
   "outputs": [],
   "source": [
    "eps = mode_solver.get_epsilon()"
   ]
  },
  {
   "cell_type": "code",
   "execution_count": null,
   "metadata": {},
   "outputs": [],
   "source": [
    "m1.plot_eps()"
   ]
  },
  {
   "cell_type": "code",
   "execution_count": null,
   "metadata": {},
   "outputs": [],
   "source": [
    "m1.plot_e()"
   ]
  },
  {
   "cell_type": "markdown",
   "metadata": {},
   "source": [
    "## Symmetries\n",
    "\n",
    "You can exploit symmetries to reduce computation time as well as finding only (TE or TM) modes\n",
    "\n",
    "asuming propagating in X direction\n",
    "\n",
    "- TE: mp.ODD_Y + mp.EVEN_Z\n",
    "- TM: mp.EVEN+Y + mp.ODD_Z, all energy in z component\n",
    "\n",
    "### TM: mp.ODD_Y + mp.EVEN_Z\n",
    "\n",
    "You can define an even Y parity to find only the TM modes"
   ]
  },
  {
   "cell_type": "code",
   "execution_count": null,
   "metadata": {},
   "outputs": [],
   "source": [
    "mode_solver = gm.get_mode_solver_rib(wg_width=1.0, ncore=3.47, nclad=1.44, wg_thickness=.22, resolution=32, sy=6, sz=6)\n",
    "modes = gm.find_modes(mode_solver=mode_solver, mode_number=1, parity= mp.EVEN_Y+mp.ODD_Z, nmodes=2)\n",
    "m1 = modes[1]\n",
    "m2 = modes[2]"
   ]
  },
  {
   "cell_type": "code",
   "execution_count": null,
   "metadata": {},
   "outputs": [],
   "source": [
    "m1.plot_e()"
   ]
  },
  {
   "cell_type": "code",
   "execution_count": null,
   "metadata": {},
   "outputs": [],
   "source": [
    "mode_solver = gm.get_mode_solver_rib(wg_width=1.0, ncore=3.47, nclad=1.44, wg_thickness=.22, resolution=32, sz=6, sy=6)\n",
    "modes = gm.find_modes(mode_solver=mode_solver, mode_number=1, parity= mp.EVEN_Y+mp.ODD_Z, nmodes=2)\n",
    "m1 = modes[1]\n",
    "m2 = modes[2]"
   ]
  },
  {
   "cell_type": "code",
   "execution_count": null,
   "metadata": {},
   "outputs": [],
   "source": [
    "modes.keys()"
   ]
  },
  {
   "cell_type": "code",
   "execution_count": null,
   "metadata": {},
   "outputs": [],
   "source": [
    "m1.plot_e()"
   ]
  },
  {
   "cell_type": "markdown",
   "metadata": {},
   "source": [
    "### ODD_Y (TE)"
   ]
  },
  {
   "cell_type": "code",
   "execution_count": null,
   "metadata": {},
   "outputs": [],
   "source": [
    "mode_solver = gm.get_mode_solver_rib(wg_width=0.20, ncore=3.47, nclad=1.44, wg_thickness=.22, resolution=32, sy=6, sz=6)\n",
    "modes = gm.find_modes(mode_solver=mode_solver, mode_number=1, parity=mp.ODD_Y, nmodes=2)\n",
    "m1 = modes[1]\n",
    "m2 = modes[2]"
   ]
  },
  {
   "cell_type": "code",
   "execution_count": null,
   "metadata": {},
   "outputs": [],
   "source": [
    "m1.plot_e()"
   ]
  },
  {
   "cell_type": "markdown",
   "metadata": {},
   "source": [
    "## Sweep waveguide width\n",
    "\n",
    "### Strip"
   ]
  },
  {
   "cell_type": "code",
   "execution_count": null,
   "metadata": {},
   "outputs": [],
   "source": [
    "\n",
    "df = gm.find_neff_vs_width(filepath='neff_vs_width.csv')\n",
    "df"
   ]
  },
  {
   "cell_type": "code",
   "execution_count": null,
   "metadata": {},
   "outputs": [],
   "source": [
    "gm.plot_neff_vs_width(df)"
   ]
  },
  {
   "cell_type": "markdown",
   "metadata": {},
   "source": [
    "### Rib waveguides"
   ]
  },
  {
   "cell_type": "code",
   "execution_count": null,
   "metadata": {},
   "outputs": [],
   "source": [
    "import matplotlib.pyplot as plt\n",
    "import gdsfactory.simulation.modes as gm\n",
    "import meep as mp\n",
    "\n",
    "mode_solver = gm.get_mode_solver_rib(wg_width=0.4, ncore=3.47, nclad=1.44, wg_thickness=220e-3, resolution=32, sz=6, sy=6, nmodes=4, slab_thickness=90e-3)\n",
    "modes = gm.find_modes(mode_solver=mode_solver, parity=mp.NO_PARITY)\n",
    "m1 = modes[1]\n",
    "m2 = modes[2]\n",
    "m3 = modes[3]"
   ]
  },
  {
   "cell_type": "code",
   "execution_count": null,
   "metadata": {},
   "outputs": [],
   "source": [
    "m1.plot_eps()\n",
    "m1.neff"
   ]
  },
  {
   "cell_type": "code",
   "execution_count": null,
   "metadata": {},
   "outputs": [],
   "source": [
    "m1.plot_e()\n",
    "m1.neff"
   ]
  },
  {
   "cell_type": "code",
   "execution_count": null,
   "metadata": {},
   "outputs": [],
   "source": [
    "m2.plot_e()\n",
    "m2.neff"
   ]
  },
  {
   "cell_type": "code",
   "execution_count": null,
   "metadata": {},
   "outputs": [],
   "source": [
    "ws = gm.find_neff_vs_width(slab_thickness=90e-3, filepath='neff_vs_width_rib.csv')\n",
    "ws.plot()"
   ]
  },
  {
   "cell_type": "markdown",
   "metadata": {},
   "source": [
    "### Nitride"
   ]
  },
  {
   "cell_type": "code",
   "execution_count": null,
   "metadata": {},
   "outputs": [],
   "source": [
    "mode_solver = gm.get_mode_solver_rib(wg_width=1.0, ncore=2., nclad=1.44, wg_thickness=400e-3, sz=6, sy=10, nmodes=4)\n",
    "modes = gm.find_modes(mode_solver=mode_solver, parity=mp.NO_PARITY)\n",
    "m1 = modes[1]\n",
    "m2 = modes[2]\n",
    "m3 = modes[3]"
   ]
  },
  {
   "cell_type": "code",
   "execution_count": null,
   "metadata": {},
   "outputs": [],
   "source": [
    "m1.plot_eps()"
   ]
  },
  {
   "cell_type": "code",
   "execution_count": null,
   "metadata": {},
   "outputs": [],
   "source": [
    "m1.plot_ey()"
   ]
  },
  {
   "cell_type": "code",
   "execution_count": null,
   "metadata": {},
   "outputs": [],
   "source": [
    "m2.plot_ex()"
   ]
  },
  {
   "cell_type": "code",
   "execution_count": null,
   "metadata": {},
   "outputs": [],
   "source": [
    "m3.plot_ey()"
   ]
  },
  {
   "cell_type": "code",
   "execution_count": null,
   "metadata": {},
   "outputs": [],
   "source": [
    "ws = gm.find_neff_vs_width(w2=1.2, wg_thickness=0.4, ncore=2., sy=10., filepath='neff_vs_width_nitride.csv')"
   ]
  },
  {
   "cell_type": "code",
   "execution_count": null,
   "metadata": {},
   "outputs": [],
   "source": [
    "ws.plot()"
   ]
  },
  {
   "cell_type": "markdown",
   "metadata": {},
   "source": [
    "## Convergence tests\n",
    "\n",
    "Before launching a set of simulations you need to make sure you have the correct simulation settings:\n",
    "\n",
    "- resolution: resolution\n",
    "- sx: Size of the simulation region in the x-direction (default=4.0)\n",
    "- sy: Size of the simulation region in the y-direction (default=4.0)\n"
   ]
  },
  {
   "cell_type": "code",
   "execution_count": null,
   "metadata": {},
   "outputs": [],
   "source": [
    "import gdsfactory.simulation.modes as gm\n",
    "import numpy as np\n",
    "import matplotlib.pyplot as plt\n",
    "\n",
    "resolutions = np.linspace(10, 50, 5)\n",
    "\n",
    "neffs = []\n",
    "ngs= []\n",
    "\n",
    "for resolution in resolutions:\n",
    "    modes = gm.find_modes(wg_width=0.5, ncore=3.5, nclad=1.44, wg_thickness=.22, resolution=resolution)\n",
    "    mode = modes[1]\n",
    "    ngs.append(mode.ng)\n",
    "    neffs.append(mode.neff)"
   ]
  },
  {
   "cell_type": "code",
   "execution_count": null,
   "metadata": {},
   "outputs": [],
   "source": [
    "plt.plot(resolutions, ngs, 'o-')\n",
    "plt.ylabel('ng')\n",
    "plt.xlabel('resolution (pixels/um)')"
   ]
  },
  {
   "cell_type": "code",
   "execution_count": null,
   "metadata": {},
   "outputs": [],
   "source": [
    "plt.plot(resolutions, neffs, 'o-')\n",
    "plt.ylabel('neff')\n",
    "plt.xlabel('resolution (pixels/um)')"
   ]
  },
  {
   "cell_type": "code",
   "execution_count": null,
   "metadata": {},
   "outputs": [],
   "source": [
    "szs = np.linspace(4, 6, 6)\n",
    "neffs = []\n",
    "ngs= []\n",
    "\n",
    "for sz in szs:\n",
    "    modes = gm.find_modes(\n",
    "        wg_width=0.5, ncore=3.5, nclad=1.44, wg_thickness=.22, resolution=20, sz=sz\n",
    "    )\n",
    "    mode = modes[1]\n",
    "    ngs.append(mode.ng)\n",
    "    neffs.append(mode.neff)"
   ]
  },
  {
   "cell_type": "code",
   "execution_count": null,
   "metadata": {},
   "outputs": [],
   "source": [
    "plt.plot(szs, neffs, 'o-')\n",
    "plt.ylabel('neff')\n",
    "plt.xlabel('simulation size in z(um)')"
   ]
  },
  {
   "cell_type": "code",
   "execution_count": null,
   "metadata": {},
   "outputs": [],
   "source": [
    "sys = np.linspace(2, 6, 6)\n",
    "neffs = []\n",
    "ngs= []\n",
    "\n",
    "for sy in sys:\n",
    "    modes = gm.find_modes(\n",
    "        wg_width=0.5, ncore=3.5, nclad=1.44, wg_thickness=.22, resolution=20, sy=sy\n",
    "    )\n",
    "    mode = modes[1]\n",
    "    ngs.append(mode.ng)\n",
    "    neffs.append(mode.neff)"
   ]
  },
  {
   "cell_type": "code",
   "execution_count": null,
   "metadata": {},
   "outputs": [],
   "source": [
    "plt.plot(sys, neffs, 'o-')\n",
    "plt.ylabel('neff')\n",
    "plt.xlabel('simulation size in y (um)')"
   ]
  },
  {
   "cell_type": "code",
   "execution_count": null,
   "metadata": {},
   "outputs": [],
   "source": []
  }
 ],
 "metadata": {
  "kernelspec": {
   "display_name": "Python 3 (ipykernel)",
   "language": "python",
   "name": "python3"
  },
  "language_info": {
   "codemirror_mode": {
    "name": "ipython",
    "version": 3
   },
   "file_extension": ".py",
   "mimetype": "text/x-python",
   "name": "python",
   "nbconvert_exporter": "python",
   "pygments_lexer": "ipython3",
   "version": "3.9.5"
  }
 },
 "nbformat": 4,
 "nbformat_minor": 4,
 "nbsphinx": {
  "execute": "never"
 }
}
