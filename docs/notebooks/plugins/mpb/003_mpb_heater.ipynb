{
 "cells": [
  {
   "cell_type": "code",
   "execution_count": null,
   "id": "7ea93dc8-37f1-4f44-b3a8-96ad3b778e25",
   "metadata": {},
   "outputs": [],
   "source": [
    "import numpy as np\n",
    "import matplotlib.pyplot as plt\n",
    "import meep as mp\n",
    "import gdsfactory.simulation.modes as gm"
   ]
  },
  {
   "cell_type": "code",
   "execution_count": null,
   "id": "c1dfbed5-b30c-4d30-a59a-7edd980cd5b2",
   "metadata": {},
   "outputs": [],
   "source": [
    "dn_dt_si = 1.87e-4\n",
    "dn_dt_sio2 = 8.5e-6"
   ]
  },
  {
   "cell_type": "markdown",
   "id": "6d6fb467-6808-4207-beee-a17d0f230e28",
   "metadata": {},
   "source": [
    "You can simulate the index change effect from a heater in MPB\n",
    "\n",
    "## Strip waveguide heater\n",
    "\n",
    "Lets assume the temperature increases by 10C (the actual increase does not matter)\n",
    "\n",
    "**Question** \n",
    "\n",
    "What is the optimal waveguide width for maximum index change?"
   ]
  },
  {
   "cell_type": "code",
   "execution_count": null,
   "id": "9d73999a-8157-402e-9194-c5be6bbad909",
   "metadata": {},
   "outputs": [],
   "source": [
    "wg_widths = np.arange(0.4, 1.3, 0.2)\n",
    "wg_widths"
   ]
  },
  {
   "cell_type": "code",
   "execution_count": null,
   "id": "5d2897d0-a913-429d-9970-51ea50c817dc",
   "metadata": {},
   "outputs": [],
   "source": [
    "dneffs = []\n",
    "\n",
    "for wg_width in wg_widths:\n",
    "    dt = 0\n",
    "    mode_solver_t0 = gm.get_mode_solver_rib(wg_width=wg_width, ncore=3.47 + dn_dt_si*dt, nclad=1.44 + dn_dt_sio2*dt, wg_thickness=.22, resolution=20, sy=6, sz=6, nmodes=4)\n",
    "    modes = gm.find_modes(mode_solver=mode_solver_t0)\n",
    "    m1 = modes[1]\n",
    "    neff_t0 = m1.neff\n",
    "\n",
    "    dt = 10\n",
    "    mode_solver_t1 = gm.get_mode_solver_rib(wg_width=wg_width, ncore=3.47 + dn_dt_si*dt, nclad=1.44 + dn_dt_sio2*dt, wg_thickness=.22, resolution=20, sy=6, sz=6, nmodes=4)\n",
    "    modes = gm.find_modes(mode_solver=mode_solver_t1)\n",
    "    m1 = modes[1]\n",
    "    neff_t1 = m1.neff\n",
    "\n",
    "    dneff = neff_t1 - neff_t0\n",
    "    dneffs.append(dneff)"
   ]
  },
  {
   "cell_type": "code",
   "execution_count": null,
   "id": "6196793d-d388-4d0a-a931-acfddbc9daff",
   "metadata": {},
   "outputs": [],
   "source": [
    "plt.plot(wg_widths, np.array(dneffs)/dt, '.-')\n",
    "plt.xlabel('waveguide width (um)')\n",
    "plt.ylabel('dneff (T1 - T0)')"
   ]
  },
  {
   "cell_type": "code",
   "execution_count": null,
   "id": "6a0f90b0-a52c-4d2b-9ed7-9344832fc41e",
   "metadata": {},
   "outputs": [],
   "source": [
    "dndt=  np.array(dneffs)/dt\n",
    "plt.plot(wg_widths, dndt/max(dndt) *100, '.-')\n",
    "plt.title('Strip waveguide dn/dT')\n",
    "plt.xlabel('waveguide width (um)')\n",
    "plt.ylabel('dn/dT (%)')"
   ]
  },
  {
   "cell_type": "code",
   "execution_count": null,
   "id": "17bcf02e-b10e-42ff-860f-5f6b04bc4916",
   "metadata": {},
   "outputs": [],
   "source": []
  }
 ],
 "metadata": {
  "kernelspec": {
   "display_name": "Python 3 (ipykernel)",
   "language": "python",
   "name": "python3"
  },
  "language_info": {
   "codemirror_mode": {
    "name": "ipython",
    "version": 3
   },
   "file_extension": ".py",
   "mimetype": "text/x-python",
   "name": "python",
   "nbconvert_exporter": "python",
   "pygments_lexer": "ipython3",
   "version": "3.9.5"
  }
 },
 "nbformat": 4,
 "nbformat_minor": 5,
 "nbsphinx": {
  "execute": "never"
 }
}
